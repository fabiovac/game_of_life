{
 "cells": [
  {
   "cell_type": "markdown",
   "metadata": {},
   "source": [
    "# Game of Life\n",
    "\n",
    "\n",
    "The [Game of Life](http://en.wikipedia.org/wiki/Conway's_Game_of_Life) (GoF) is a cellular automaton devised by the British mathematician John Horton Conway in 1970. The game is a zero-player game, meaning that its evolution is determined by its initial state, requiring no further input. One interacts with the Game of Life by creating an initial configuration and observing how it evolves, or, for advanced players, by creating patterns with particular properties.\n",
    "\n",
    "The universe of the Game of Life is an infinite two-dimensional orthogonal grid of square cells, each of which is in one of two possible states, live or dead. Every cell interacts with its eight neighbours, which are the cells that are directly horizontally, vertically, or diagonally adjacent. At each step in time, the following transitions occur:\n",
    "\n",
    "* Any live cell with fewer than two live neighbours dies, as if by underpopulation.\n",
    "* Any live cell with more than three live neighbours dies, as if by overcrowding.\n",
    "* Any live cell with two or three live neighbours lives, unchanged, to the next generation.\n",
    "* Any dead cell with exactly three live neighbours becomes a live cell.\n",
    "\n",
    "The initial pattern (generation 0) constitutes the \"seed\" of the system.\n",
    "Time is considered discrete, and each time step (sometimes called a tick), the previous rules are applied simultaneously to every cell in the grid; \"births\" and \"deaths\" are immediate.\n",
    "Each generation is a pure function of the previous generation alone.\n",
    "\n",
    "\n",
    "## Assignments\n",
    "\n",
    "* Begin by implementing the GoF's rules and create few examples with basic seeds in small dimensions. Hint: create `.gif` animations from sequences of still `.png` images\n",
    "* Implement examples of the three categories of patterns *still lifes*, *oscillators* and *spaceships* (check the [wiki link](http://en.wikipedia.org/wiki/Conway's_Game_of_Life))\n",
    "* Analyse the evolutions of these patterns in terms of frequency (the number of cycles required to return to the original configuration, if any), occupancy (how many alive cells there are at every step of the game), replication or heat (the average number of cells that change state at each generation), speed (if applicable), etc.\n",
    "* Increase the size of the GoF's world and play with more advanced and complex patterns"
   ]
  },
  {
   "cell_type": "code",
   "execution_count": 1,
   "metadata": {},
   "outputs": [],
   "source": [
    "import copy\n",
    "import numpy as np\n",
    "import csv\n",
    "import matplotlib.pyplot as plt\n",
    "\n",
    "from PIL import Image\n",
    "from IPython.display import display, Image as IPyImage"
   ]
  },
  {
   "cell_type": "code",
   "execution_count": 2,
   "metadata": {},
   "outputs": [],
   "source": [
    "class State:\n",
    "    \"\"\" \n",
    "    Represents the state of a Game of Life iteration as\n",
    "    a set of alive cells. \n",
    "    A cell is represented as a (x,y) tuple of coordinates.\n",
    "    The origin is considered in the top-left corner.\n",
    "    \"\"\"\n",
    "    \n",
    "    def __init__(self, grid_size, initial_state):\n",
    "        \"\"\"\n",
    "        Initialize the state with the grid dimension and\n",
    "        the starting seed represented as a set of\n",
    "        alive cells' coordinates.\n",
    "        \"\"\"\n",
    "        self.grid_size = grid_size\n",
    "        if initial_state == None:\n",
    "            self.state = set()\n",
    "        else:\n",
    "            self.state = initial_state\n",
    "                \n",
    "    def alive_cells(self):\n",
    "        \"\"\" Returns the set of alive cells. \"\"\"\n",
    "        return self.state\n",
    "            \n",
    "    def is_alive(self, cell):\n",
    "        \"\"\" Given a cell returns True if the cell is alive. \"\"\"\n",
    "        return cell in self.state\n",
    "    \n",
    "    def kill(self, cell):\n",
    "        \"\"\" Kills the given cell. \"\"\"\n",
    "        self.state.remove(cell)\n",
    "    \n",
    "    def revitalize(self, cell):\n",
    "        \"\"\" Revitalizes the given cell if dead. \"\"\"\n",
    "        if cell[0] < self.grid_size[0] and cell[1] < self.grid_size[1]:\n",
    "            self.state.add(cell)\n",
    "        else:\n",
    "            print(\"Grid dimensions exceeded, cell has not been loaded\")\n",
    "        \n",
    "    def neighbours(self, cell):\n",
    "        \"\"\" Returns the 8 neighbouring cells. \"\"\"\n",
    "        offsets = [(x,y) for x in range(-1,2) for y in range(-1,2) if not (x == 0 and y == 0)]\n",
    "        neighbours = set()\n",
    "        for offset in offsets:\n",
    "            x, y = cell[0] - offset[0], cell[1] - offset[1]\n",
    "            if x < self.grid_size[0] and y < self.grid_size[1] and x >= 0 and y >= 0:\n",
    "                neighbours.add((x,y))\n",
    "        return neighbours\n",
    "    \n",
    "    def count_alive_neighbours(self, cell):\n",
    "        \"\"\" Returns the number of alive neighbours of the given cell. \"\"\"\n",
    "        neighbours = self.neighbours(cell)\n",
    "        count = 0\n",
    "        for neighbour in neighbours:\n",
    "            if self.is_alive(neighbour):\n",
    "                count += 1\n",
    "        return count\n",
    "    \n",
    "    def __eq__(self, other):\n",
    "        if isinstance(other, State):\n",
    "            return self.state == other.state\n",
    "        return False\n",
    "    \n",
    "    def get_frame(self, size):\n",
    "        \"\"\" Returns the state represented as a grayscale frame of the given size. \"\"\"\n",
    "        frame = np.zeros(self.grid_size, dtype=np.uint8)\n",
    "        for cell in self.alive_cells():\n",
    "            # cell is (x,y) frame has shape (rows, cols)\n",
    "            frame[cell[1], cell[0]] = 255\n",
    "        frame = Image.fromarray(frame)\n",
    "        frame = frame.resize(size, resample=Image.NEAREST)\n",
    "        return frame"
   ]
  },
  {
   "cell_type": "code",
   "execution_count": 3,
   "metadata": {},
   "outputs": [],
   "source": [
    "class PatternLibrary:\n",
    "    \n",
    "    def  __init__(self, csv_filename):        \n",
    "        # read the patterns\n",
    "        raw_patterns = {}\n",
    "        with open(csv_filename, newline='', encoding='utf-8-sig') as csvfile:\n",
    "            rows = csv.reader(csvfile, delimiter=';')\n",
    "            pattern_name = ''\n",
    "            for row in rows:\n",
    "                if row[0] not in ['', '1']:\n",
    "                    pattern_name = row[0]\n",
    "                    raw_patterns[pattern_name] = []\n",
    "                else:\n",
    "                    raw_patterns[pattern_name].append(row)\n",
    "                    \n",
    "        # parse the patterns\n",
    "        self.patterns = {}            \n",
    "        for name, pattern in raw_patterns.items():\n",
    "            self.patterns[name] = set()\n",
    "            for y, row in enumerate(pattern):\n",
    "                for x, cell in enumerate(row):\n",
    "                    if cell == '1':\n",
    "                        self.patterns[name].add((x,y))\n",
    "        \n",
    "    def __len__(self):\n",
    "        return len(self.patterns)\n",
    "    \n",
    "    def get_names(self):\n",
    "        \"\"\" Returns the list of pattern names in the library. \"\"\"\n",
    "        return list(self.patterns.keys())\n",
    "                \n",
    "    def get_pattern(self, name):\n",
    "        \"\"\" Returns the pattern with the given name. \"\"\"\n",
    "        return self.patterns[name]"
   ]
  },
  {
   "cell_type": "code",
   "execution_count": 4,
   "metadata": {},
   "outputs": [
    {
     "name": "stdout",
     "output_type": "stream",
     "text": [
      "Patterns in the library: ['glider', 'blinker', 'beacon', 'toad', 'diehard', 'acorn']\n"
     ]
    }
   ],
   "source": [
    "library = PatternLibrary('patterns.csv')\n",
    "print('Patterns in the library:', library.get_names())"
   ]
  },
  {
   "cell_type": "code",
   "execution_count": 5,
   "metadata": {
    "scrolled": false
   },
   "outputs": [
    {
     "data": {
      "image/png": "[encoded data removed]",
      "text/plain": [
       "<Figure size 432x288 with 6 Axes>"
      ]
     },
     "metadata": {
      "needs_background": "light"
     },
     "output_type": "display_data"
    }
   ],
   "source": [
    "def to_numpy(pattern, pad=1):\n",
    "    \"\"\" Returns a given pattern as a numpy array. \"\"\"\n",
    "    rows = []\n",
    "    cols = []    \n",
    "    for x, y in pattern:\n",
    "        rows.append(y)\n",
    "        cols.append(x)\n",
    "        \n",
    "    frame = np.zeros((max(rows)+1+2*pad, max(cols)+1+2*pad), dtype=np.uint8)\n",
    "    for cell in pattern:\n",
    "        frame[cell[1]+pad, cell[0]+pad] = 255\n",
    "        \n",
    "    return frame\n",
    "\n",
    "patterns_names = library.get_names()\n",
    "ncols = 3\n",
    "nrows = int(np.ceil(len(library) / ncols))\n",
    "fig, axs = plt.subplots(nrows, ncols)\n",
    "for i, ax in enumerate(axs.flatten()):\n",
    "    if i < len(library):\n",
    "        ax.imshow(to_numpy(library.get_pattern(patterns_names[i])), cmap='gray')\n",
    "        ax.set_title(patterns_names[i])\n",
    "    ax.axis('off')"
   ]
  },
  {
   "cell_type": "code",
   "execution_count": 10,
   "metadata": {},
   "outputs": [],
   "source": [
    "class Game:\n",
    "    \n",
    "    def __init__(self, initial_state=None, grid_size=(64, 64)):\n",
    "        self.size = grid_size\n",
    "        self.state = State(grid_size, initial_state)\n",
    "        self.history = []\n",
    "        \n",
    "    def run(self, iterations, fun=None):\n",
    "        \"\"\" Run the game for the given number of iterations. \"\"\"\n",
    "        \n",
    "        count_cells_alive = []\n",
    "        \n",
    "        for _ in range(iterations):\n",
    "            \n",
    "            # keep track of the state\n",
    "            # TODO: render immediately image or save the 'raw' state?\n",
    "            self.history.append(self.state)\n",
    "            \n",
    "            prev_state = self.state\n",
    "            curr_state = copy.deepcopy(self.state)\n",
    "            \n",
    "            for cell in prev_state.alive_cells():\n",
    "                \n",
    "                # Any live cell with fewer than two live neighbours dies, as if by underpopulation.\n",
    "                # Any live cell with more than three live neighbours dies, as if by overcrowding.\n",
    "                alive_neighbours = prev_state.count_alive_neighbours(cell)\n",
    "                if alive_neighbours < 2 or alive_neighbours > 3:\n",
    "                    curr_state.kill(cell)\n",
    "                # Any live cell with two or three live neighbours lives, unchanged, to the next generation.\n",
    "                \n",
    "                # Any dead cell with exactly three live neighbours becomes a live cell.\n",
    "                neighbours = prev_state.neighbours(cell)\n",
    "                for neighbour in neighbours:\n",
    "                    alive_neighbours = prev_state.count_alive_neighbours(neighbour)\n",
    "                    if alive_neighbours == 3:\n",
    "                        curr_state.revitalize(neighbour)\n",
    "                    \n",
    "            self.state = curr_state\n",
    "            \n",
    "            if fun:\n",
    "                period = fun(self.history)\n",
    "                print(period)\n",
    "            \n",
    "            if prev_state == curr_state:\n",
    "                break\n",
    "            \n",
    "            #keep track of the number of active cells at each iteration\n",
    "            count_cells_alive.append(len(curr_state.alive_cells()))\n",
    "        \n",
    "        return count_cells_alive\n",
    "    \n",
    "    # https://pillow.readthedocs.io/en/latest/handbook/image-file-formats.html#saving-sequences\n",
    "    def export_gif(self, filename, size=(512,512), frametime=200):\n",
    "        \"\"\" Export the game history as an animated gif of the given resolution. \"\"\"\n",
    "        frames = []\n",
    "        for state in self.history:\n",
    "            frames.append(state.get_frame(size))            \n",
    "        frames[0].save(filename, save_all=True, append_images=frames[1:], duration=frametime, loop=0)\n",
    "\n",
    "    def load_pattern(self, pattern, pattern_pos):\n",
    "        \"\"\" Load a specific pattern in the game. \"\"\"\n",
    "        for cell in pattern:\n",
    "            cell = (cell[0] + pattern_pos[0], cell[1] + pattern_pos[1])\n",
    "            self.state.revitalize(cell)"
   ]
  },
  {
   "cell_type": "code",
   "execution_count": 7,
   "metadata": {},
   "outputs": [],
   "source": [
    "def period(states_history):\n",
    "    for i, state in enumerate(reversed(states_history[:-1])):\n",
    "        if state == states_history[-1]:\n",
    "            return i + 1"
   ]
  },
  {
   "cell_type": "code",
   "execution_count": 11,
   "metadata": {},
   "outputs": [
    {
     "name": "stdout",
     "output_type": "stream",
     "text": [
      "2\n"
     ]
    },
    {
     "data": {
      "image/gif": "[encoded data removed]",
      "text/plain": [
       "<IPython.core.display.Image object>"
      ]
     },
     "metadata": {},
     "output_type": "display_data"
    }
   ],
   "source": [
    "bliker = library.get_pattern('blinker')\n",
    "\n",
    "game = Game(grid_size=(11,11))\n",
    "game.load_pattern(bliker, (5,4))\n",
    "\n",
    "game.run(3, period)\n",
    "filename = 'out.gif'\n",
    "game.export_gif(filename, size=(128,128), frametime=500)\n",
    "display(IPyImage(filename))"
   ]
  },
  {
   "cell_type": "code",
   "execution_count": 12,
   "metadata": {},
   "outputs": [
    {
     "ename": "UnboundLocalError",
     "evalue": "local variable 'period' referenced before assignment",
     "output_type": "error",
     "traceback": [
      "\u001b[1;31m---------------------------------------------------------------------------\u001b[0m",
      "\u001b[1;31mUnboundLocalError\u001b[0m                         Traceback (most recent call last)",
      "\u001b[1;32m~\\AppData\\Local\\Temp/ipykernel_3060/945205031.py\u001b[0m in \u001b[0;36m<module>\u001b[1;34m\u001b[0m\n\u001b[0;32m      4\u001b[0m \u001b[0mgame\u001b[0m\u001b[1;33m.\u001b[0m\u001b[0mload_pattern\u001b[0m\u001b[1;33m(\u001b[0m\u001b[0mdiehard\u001b[0m\u001b[1;33m,\u001b[0m \u001b[1;33m(\u001b[0m\u001b[1;36m8\u001b[0m\u001b[1;33m,\u001b[0m\u001b[1;36m12\u001b[0m\u001b[1;33m)\u001b[0m\u001b[1;33m)\u001b[0m\u001b[1;33m\u001b[0m\u001b[1;33m\u001b[0m\u001b[0m\n\u001b[0;32m      5\u001b[0m \u001b[1;33m\u001b[0m\u001b[0m\n\u001b[1;32m----> 6\u001b[1;33m \u001b[0mgame\u001b[0m\u001b[1;33m.\u001b[0m\u001b[0mrun\u001b[0m\u001b[1;33m(\u001b[0m\u001b[1;36m200\u001b[0m\u001b[1;33m)\u001b[0m\u001b[1;33m\u001b[0m\u001b[1;33m\u001b[0m\u001b[0m\n\u001b[0m\u001b[0;32m      7\u001b[0m \u001b[1;33m\u001b[0m\u001b[0m\n\u001b[0;32m      8\u001b[0m \u001b[0mfilename\u001b[0m \u001b[1;33m=\u001b[0m \u001b[1;34m'out.gif'\u001b[0m\u001b[1;33m\u001b[0m\u001b[1;33m\u001b[0m\u001b[0m\n",
      "\u001b[1;32m~\\AppData\\Local\\Temp/ipykernel_3060/2244790613.py\u001b[0m in \u001b[0;36mrun\u001b[1;34m(self, iterations, fun)\u001b[0m\n\u001b[0;32m     47\u001b[0m             \u001b[0mcount_cells_alive\u001b[0m\u001b[1;33m.\u001b[0m\u001b[0mappend\u001b[0m\u001b[1;33m(\u001b[0m\u001b[0mlen\u001b[0m\u001b[1;33m(\u001b[0m\u001b[0mcurr_state\u001b[0m\u001b[1;33m.\u001b[0m\u001b[0malive_cells\u001b[0m\u001b[1;33m(\u001b[0m\u001b[1;33m)\u001b[0m\u001b[1;33m)\u001b[0m\u001b[1;33m)\u001b[0m\u001b[1;33m\u001b[0m\u001b[1;33m\u001b[0m\u001b[0m\n\u001b[0;32m     48\u001b[0m \u001b[1;33m\u001b[0m\u001b[0m\n\u001b[1;32m---> 49\u001b[1;33m         \u001b[0mprint\u001b[0m\u001b[1;33m(\u001b[0m\u001b[0mperiod\u001b[0m\u001b[1;33m)\u001b[0m\u001b[1;33m\u001b[0m\u001b[1;33m\u001b[0m\u001b[0m\n\u001b[0m\u001b[0;32m     50\u001b[0m         \u001b[1;32mreturn\u001b[0m \u001b[0mcount_cells_alive\u001b[0m\u001b[1;33m\u001b[0m\u001b[1;33m\u001b[0m\u001b[0m\n\u001b[0;32m     51\u001b[0m \u001b[1;33m\u001b[0m\u001b[0m\n",
      "\u001b[1;31mUnboundLocalError\u001b[0m: local variable 'period' referenced before assignment"
     ]
    }
   ],
   "source": [
    "diehard = library.get_pattern('diehard')\n",
    "\n",
    "game = Game(grid_size=(30,30))\n",
    "game.load_pattern(diehard, (8,12))\n",
    "\n",
    "game.run(200)\n",
    "\n",
    "filename = 'out.gif'\n",
    "game.export_gif(filename, size=(200,200), frametime=500)\n",
    "display(IPyImage(filename))"
   ]
  },
  {
   "cell_type": "code",
   "execution_count": null,
   "metadata": {},
   "outputs": [],
   "source": [
    "bliker = library.get_pattern('blinker')\n",
    "glider = library.get_pattern('glider')\n",
    "\n",
    "game = Game(grid_size=(64,64))\n",
    "game.load_pattern(bliker, (32,32))\n",
    "game.load_pattern(glider, (0,0))\n",
    "\n",
    "game.run(500)\n",
    "\n",
    "filename = 'out2.gif'\n",
    "game.export_gif(filename, frametime=200)\n",
    "display(IPyImage(filename))"
   ]
  },
  {
   "cell_type": "code",
   "execution_count": null,
   "metadata": {},
   "outputs": [],
   "source": [
    "def occupancy(pattern_name,iters):\n",
    "    lib = PatternLibrary('patterns.csv')\n",
    "    pattern = lib.get_pattern(pattern_name)\n",
    "    \n",
    "    #run the game to obtain the list with the number of active cells at each iteration\n",
    "    g = Game(initial_state=None, grid_size=(64, 64))\n",
    "    g.load_pattern(pattern, (0, 0))\n",
    "    count=g.run(iters)\n",
    "    print(count)\n",
    "    \n",
    "    iterations=[i for i in range(iters)]\n",
    "    fig,ax = plt.subplots()\n",
    "    plt.plot(iterations,count,linestyle=\"-\",linewidth=1)\n",
    "    plt.xlabel('Iterations')\n",
    "    plt.ylabel('Occupancy')\n",
    "    ax.set_xticks(iterations)\n",
    "    plt.title(pattern_name+\", occupancy per iteration\")\n",
    "    plt.savefig(\"occupancy.png\")\n",
    "    plt.show()\n",
    "    \n",
    "    return count"
   ]
  },
  {
   "cell_type": "code",
   "execution_count": null,
   "metadata": {},
   "outputs": [],
   "source": [
    "occ = occupancy('diehard',200)"
   ]
  },
  {
   "cell_type": "code",
   "execution_count": null,
   "metadata": {},
   "outputs": [],
   "source": []
  }
 ],
 "metadata": {
  "interpreter": {
   "hash": "8ed243e5887775605319bbb862e1ad596dcc20841ad5293fa7750ee0b778099d"
  },
  "kernelspec": {
   "display_name": "Python 3 (ipykernel)",
   "language": "python",
   "name": "python3"
  },
  "language_info": {
   "codemirror_mode": {
    "name": "ipython",
    "version": 3
   },
   "file_extension": ".py",
   "mimetype": "text/x-python",
   "name": "python",
   "nbconvert_exporter": "python",
   "pygments_lexer": "ipython3",
   "version": "3.8.12"
  }
 },
 "nbformat": 4,
 "nbformat_minor": 4
}
