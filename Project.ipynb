{
 "cells": [
  {
   "cell_type": "markdown",
   "metadata": {},
   "source": [
    "# Game of Life\n",
    "\n",
    "\n",
    "The [Game of Life](http://en.wikipedia.org/wiki/Conway's_Game_of_Life) (GoF) is a cellular automaton devised by the British mathematician John Horton Conway in 1970. The game is a zero-player game, meaning that its evolution is determined by its initial state, requiring no further input. One interacts with the Game of Life by creating an initial configuration and observing how it evolves, or, for advanced players, by creating patterns with particular properties.\n",
    "\n",
    "The universe of the Game of Life is an infinite two-dimensional orthogonal grid of square cells, each of which is in one of two possible states, live or dead. Every cell interacts with its eight neighbours, which are the cells that are directly horizontally, vertically, or diagonally adjacent. At each step in time, the following transitions occur:\n",
    "\n",
    "* Any live cell with fewer than two live neighbours dies, as if by underpopulation.\n",
    "* Any live cell with more than three live neighbours dies, as if by overcrowding.\n",
    "* Any live cell with two or three live neighbours lives, unchanged, to the next generation.\n",
    "* Any dead cell with exactly three live neighbours becomes a live cell.\n",
    "\n",
    "The initial pattern (generation 0) constitutes the \"seed\" of the system.\n",
    "Time is considered discrete, and each time step (sometimes called a tick), the previous rules are applied simultaneously to every cell in the grid; \"births\" and \"deaths\" are immediate.\n",
    "Each generation is a pure function of the previous generation alone.\n",
    "\n",
    "\n",
    "## Assignments\n",
    "\n",
    "* Begin by implementing the GoF's rules and create few examples with basic seeds in small dimensions. Hint: create `.gif` animations from sequences of still `.png` images\n",
    "* Implement examples of the three categories of patterns *still lifes*, *oscillators* and *spaceships* (check the [wiki link](http://en.wikipedia.org/wiki/Conway's_Game_of_Life))\n",
    "* Analyse the evolutions of these patterns in terms of frequency (the number of cycles required to return to the original configuration, if any), occupancy (how many alive cells there are at every step of the game), replication or heat (the average number of cells that change state at each generation), speed (if applicable), etc.\n",
    "* Increase the size of the GoF's world and play with more advanced and complex patterns"
   ]
  },
  {
   "cell_type": "code",
   "execution_count": 10,
   "metadata": {},
   "outputs": [],
   "source": [
    "import copy\n",
    "\n",
    "class State:\n",
    "    def __init__(self, state=None):\n",
    "        if state is None:\n",
    "            self.state = {}\n",
    "        else:\n",
    "            self.state = state\n",
    "                \n",
    "    def alive_cells(self):\n",
    "        return self.state\n",
    "            \n",
    "    def is_cell_living(self, cell):\n",
    "        return cell in self.state\n",
    "    \n",
    "    def alive_neighbours(self, cell):\n",
    "        '''\n",
    "        Returns the number of alive neighbours of the passed cell\n",
    "        '''\n",
    "        pass\n",
    "    \n",
    "    def kill_cell(self, cell):\n",
    "        '''\n",
    "        Kills a live cell\n",
    "        '''\n",
    "        pass\n",
    "    \n",
    "    def revitalize_cell(self, cell):\n",
    "        '''\n",
    "        Revitalizes a dead cell\n",
    "        '''\n",
    "    \n",
    "    def adjacent_cells(self, cell):\n",
    "        '''\n",
    "        Returns the 8 neighbouring cells\n",
    "        '''\n",
    "        pass"
   ]
  },
  {
   "cell_type": "code",
   "execution_count": null,
   "metadata": {},
   "outputs": [],
   "source": [
    "class Game:\n",
    "    def __init__(self, initial_state=None, size=(500, 500), max_iterations=1000):\n",
    "        self.size = size\n",
    "        self.state = State(initial_state)\n",
    "        self.max_iterations = max_iterations\n",
    "        self.history = []\n",
    "        \n",
    "    def run(self):\n",
    "        for idx_iter in range(max_iterations):\n",
    "            prev_state = self.state\n",
    "            state = copy.deepcopy(self.state)\n",
    "            \n",
    "            for cell in prev_state.alive_cells():\n",
    "                alive_neighbours = prev_state.alive_neighbours(cell)\n",
    "                if alive_neighbours < 2 or alive_neighbours > 3:\n",
    "                    state.kill_cell(cell)\n",
    "                    \n",
    "                adjacent_cells = prev_state.adjacent_cells(cell)\n",
    "                for adjacent_cell in adjacent_cells:\n",
    "                    alive_adjacent_cells = prev_state.alive_neighbours(adjacent_cell)\n",
    "                    if alive_adjacent_cells == 3:\n",
    "                        state.revitalize_cell(adjacent_cell)\n",
    "                    \n",
    "            self.state = state\n",
    "        \n",
    "    \n",
    "    # Per esportare la GIF\n",
    "    def export_gif(self):\n",
    "        pass"
   ]
  },
  {
   "cell_type": "code",
   "execution_count": 13,
   "metadata": {},
   "outputs": [
    {
     "name": "stdout",
     "output_type": "stream",
     "text": [
      "{(1, 1), (0, 0)}\n"
     ]
    }
   ],
   "source": [
    "game = Game({(0,0), (1,1)})\n",
    "print(game.state.state)"
   ]
  },
  {
   "cell_type": "code",
   "execution_count": null,
   "metadata": {},
   "outputs": [],
   "source": []
  }
 ],
 "metadata": {
  "kernelspec": {
   "display_name": "Python 3 (ipykernel)",
   "language": "python",
   "name": "python3"
  },
  "language_info": {
   "codemirror_mode": {
    "name": "ipython",
    "version": 3
   },
   "file_extension": ".py",
   "mimetype": "text/x-python",
   "name": "python",
   "nbconvert_exporter": "python",
   "pygments_lexer": "ipython3",
   "version": "3.9.7"
  }
 },
 "nbformat": 4,
 "nbformat_minor": 4
}
