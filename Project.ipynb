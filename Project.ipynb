{
 "cells": [
  {
   "cell_type": "markdown",
   "metadata": {},
   "source": [
    "# Game of Life\n",
    "\n",
    "\n",
    "The [Game of Life](http://en.wikipedia.org/wiki/Conway's_Game_of_Life) (GoF) is a cellular automaton devised by the British mathematician John Horton Conway in 1970. The game is a zero-player game, meaning that its evolution is determined by its initial state, requiring no further input. One interacts with the Game of Life by creating an initial configuration and observing how it evolves, or, for advanced players, by creating patterns with particular properties.\n",
    "\n",
    "The universe of the Game of Life is an infinite two-dimensional orthogonal grid of square cells, each of which is in one of two possible states, live or dead. Every cell interacts with its eight neighbours, which are the cells that are directly horizontally, vertically, or diagonally adjacent. At each step in time, the following transitions occur:\n",
    "\n",
    "* Any live cell with fewer than two live neighbours dies, as if by underpopulation.\n",
    "* Any live cell with more than three live neighbours dies, as if by overcrowding.\n",
    "* Any live cell with two or three live neighbours lives, unchanged, to the next generation.\n",
    "* Any dead cell with exactly three live neighbours becomes a live cell.\n",
    "\n",
    "The initial pattern (generation 0) constitutes the \"seed\" of the system.\n",
    "Time is considered discrete, and each time step (sometimes called a tick), the previous rules are applied simultaneously to every cell in the grid; \"births\" and \"deaths\" are immediate.\n",
    "Each generation is a pure function of the previous generation alone.\n",
    "\n",
    "\n",
    "## Assignments\n",
    "\n",
    "* Begin by implementing the GoF's rules and create few examples with basic seeds in small dimensions. Hint: create `.gif` animations from sequences of still `.png` images\n",
    "* Implement examples of the three categories of patterns *still lifes*, *oscillators* and *spaceships* (check the [wiki link](http://en.wikipedia.org/wiki/Conway's_Game_of_Life))\n",
    "* Analyse the evolutions of these patterns in terms of frequency (the number of cycles required to return to the original configuration, if any), occupancy (how many alive cells there are at every step of the game), replication or heat (the average number of cells that change state at each generation), speed (if applicable), etc.\n",
    "* Increase the size of the GoF's world and play with more advanced and complex patterns"
   ]
  },
  {
   "cell_type": "code",
   "execution_count": 1,
   "metadata": {},
   "outputs": [],
   "source": [
    "import copy\n",
    "import numpy as np\n",
    "import csv\n",
    "import matplotlib.pyplot as plt\n",
    "\n",
    "from PIL import Image\n",
    "from IPython.display import display, HTML"
   ]
  },
  {
   "cell_type": "code",
   "execution_count": 2,
   "metadata": {},
   "outputs": [],
   "source": [
    "class State:\n",
    "    \"\"\" \n",
    "    Represents the state of a Game of Life iteration as\n",
    "    a set of alive cells. \n",
    "    A cell is represented as a (x,y) tuple of coordinates.\n",
    "    The origin is considered in the top-left corner.\n",
    "    \"\"\"\n",
    "    \n",
    "    def __init__(self, grid_size, initial_state):\n",
    "        \"\"\"\n",
    "        Initialize the state with the grid dimension and\n",
    "        the starting seed represented as a set of\n",
    "        alive cells' coordinates.\n",
    "        \"\"\"\n",
    "        self.grid_size = grid_size\n",
    "        if initial_state == None:\n",
    "            self.state = set()\n",
    "        else:\n",
    "            self.state = initial_state\n",
    "                \n",
    "    def alive_cells(self):\n",
    "        \"\"\" Returns the set of alive cells. \"\"\"\n",
    "        return self.state\n",
    "            \n",
    "    def is_alive(self, cell):\n",
    "        \"\"\" Given a cell returns True if the cell is alive. \"\"\"\n",
    "        return cell in self.state\n",
    "    \n",
    "    def kill(self, cell):\n",
    "        \"\"\" Kills the given cell. \"\"\"\n",
    "        self.state.remove(cell)\n",
    "        \n",
    "    def within_bounds(self, cell):\n",
    "        \"\"\" Returns True if the cell is within the grid's bounds. \"\"\"\n",
    "        out = cell[0] >= 0 and cell[1] >= 0 and \\\n",
    "              cell[0] < self.grid_size[0] and   \\\n",
    "              cell[1] < self.grid_size[1]\n",
    "        return out\n",
    "    \n",
    "    def revitalize(self, cell):\n",
    "        \"\"\" Revitalizes the given cell if dead. \"\"\"\n",
    "        if self.within_bounds(cell):\n",
    "            self.state.add(cell)\n",
    "        \n",
    "    def neighbours(self, cell):\n",
    "        \"\"\" Returns the 8 neighbouring cells. \"\"\"\n",
    "        offsets = [(x,y) for x in range(-1,2) for y in range(-1,2) if not (x == 0 and y == 0)]\n",
    "        neighbours = set()\n",
    "        for offset in offsets:\n",
    "            neighbour = (cell[0] - offset[0], cell[1] - offset[1])\n",
    "            if self.within_bounds(neighbour):\n",
    "                neighbours.add(neighbour)\n",
    "        return neighbours\n",
    "    \n",
    "    def count_alive_neighbours(self, cell):\n",
    "        \"\"\" Returns the number of alive neighbours of the given cell. \"\"\"\n",
    "        neighbours = self.neighbours(cell)\n",
    "        count = 0\n",
    "        for neighbour in neighbours:\n",
    "            if self.is_alive(neighbour):\n",
    "                count += 1\n",
    "        return count\n",
    "    \n",
    "    def __eq__(self, other):\n",
    "        if isinstance(other, State):\n",
    "            return self.state == other.state\n",
    "        return False\n",
    "    \n",
    "    def __len__(self):\n",
    "        return len(self.state)\n",
    "\n",
    "    def get_frame(self, size):\n",
    "        \"\"\" Returns the state represented as a grayscale frame of the given size. \"\"\"\n",
    "        frame = np.zeros(self.grid_size, dtype=np.uint8)\n",
    "        for cell in self.alive_cells():\n",
    "            # cell is (x,y) frame has shape (rows, cols)\n",
    "            frame[cell[1], cell[0]] = 255\n",
    "        frame = Image.fromarray(frame)\n",
    "        frame = frame.resize(size, resample=Image.NEAREST)\n",
    "        return frame"
   ]
  },
  {
   "cell_type": "code",
   "execution_count": 3,
   "metadata": {},
   "outputs": [],
   "source": [
    "class PatternLibrary:\n",
    "    \n",
    "    def  __init__(self, csv_filename):        \n",
    "        # read the patterns\n",
    "        raw_patterns = {}\n",
    "        with open(csv_filename, newline='', encoding='utf-8-sig') as csvfile:\n",
    "            rows = csv.reader(csvfile, delimiter=';')\n",
    "            pattern_name = ''\n",
    "            for row in rows:\n",
    "                if row[0] not in ['', '1']:\n",
    "                    pattern_name = row[0]\n",
    "                    raw_patterns[pattern_name] = []\n",
    "                else:\n",
    "                    raw_patterns[pattern_name].append(row)\n",
    "                    \n",
    "        # parse the patterns\n",
    "        self.patterns = {}            \n",
    "        for name, pattern in raw_patterns.items():\n",
    "            self.patterns[name] = set()\n",
    "            for y, row in enumerate(pattern):\n",
    "                for x, cell in enumerate(row):\n",
    "                    if cell == '1':\n",
    "                        self.patterns[name].add((x,y))\n",
    "        \n",
    "    def __len__(self):\n",
    "        return len(self.patterns)\n",
    "    \n",
    "    def get_names(self):\n",
    "        \"\"\" Returns the list of pattern names in the library. \"\"\"\n",
    "        return list(self.patterns.keys())\n",
    "                \n",
    "    def get_pattern(self, name):\n",
    "        \"\"\" Returns the pattern with the given name. \"\"\"\n",
    "        return self.patterns[name]\n",
    "    \n",
    "    def to_numpy(self, name, pad=1):\n",
    "        \"\"\" Returns a given pattern as a numpy array. \"\"\"\n",
    "        pattern = self.patterns[name]\n",
    "        rows, cols = [], []\n",
    "        for x, y in pattern:\n",
    "            rows.append(y)\n",
    "            cols.append(x)\n",
    "        \n",
    "        nrows = max(rows) + 1 + 2*pad\n",
    "        ncols = max(cols) + 1 + 2*pad\n",
    "        frame = np.zeros((nrows, ncols), dtype=np.uint8)\n",
    "        for cell in pattern:\n",
    "            frame[cell[1]+pad, cell[0]+pad] = 255\n",
    "            \n",
    "        return frame"
   ]
  },
  {
   "cell_type": "code",
   "execution_count": 4,
   "metadata": {},
   "outputs": [
    {
     "data": {
      "image/png": "[encoded data removed]",
      "text/plain": [
       "<Figure size 432x288 with 9 Axes>"
      ]
     },
     "metadata": {
      "needs_background": "light"
     },
     "output_type": "display_data"
    }
   ],
   "source": [
    "library = PatternLibrary('patterns.csv')\n",
    "#print('Patterns in the library:', library.get_names())\n",
    "\n",
    "patterns_names = library.get_names()\n",
    "ncols = 3\n",
    "nrows = int(np.ceil(len(library) / ncols))\n",
    "fig, axs = plt.subplots(nrows, ncols)\n",
    "for i, ax in enumerate(axs.flatten()):\n",
    "    if i < len(library):\n",
    "        ax.imshow(library.to_numpy(patterns_names[i]), cmap='gray')\n",
    "        ax.set_title(patterns_names[i])\n",
    "    ax.axis('off')"
   ]
  },
  {
   "cell_type": "code",
   "execution_count": 5,
   "metadata": {},
   "outputs": [],
   "source": [
    "class Game:\n",
    "    \n",
    "    def __init__(self, initial_state=None, grid_size=(64, 64)):\n",
    "        self.size = grid_size\n",
    "        self.state = State(grid_size, initial_state)\n",
    "        self.history = []\n",
    "        \n",
    "    def run(self, iterations):\n",
    "        \"\"\" Run the game for the given number of iterations. \"\"\"\n",
    "        \n",
    "        for i in range(iterations):\n",
    "            \n",
    "            # keep track of the state\n",
    "            self.history.append(self.state)\n",
    "            \n",
    "            prev_state = self.state\n",
    "            curr_state = copy.deepcopy(self.state)\n",
    "            \n",
    "            for cell in prev_state.alive_cells():\n",
    "                \n",
    "                # Any live cell with fewer than two live neighbours dies, as if by underpopulation.\n",
    "                # Any live cell with more than three live neighbours dies, as if by overcrowding.\n",
    "                alive_neighbours = prev_state.count_alive_neighbours(cell)\n",
    "                if alive_neighbours < 2 or alive_neighbours > 3:\n",
    "                    curr_state.kill(cell)\n",
    "                # Any live cell with two or three live neighbours lives, unchanged, to the next generation.\n",
    "                \n",
    "                # Any dead cell with exactly three live neighbours becomes a live cell.\n",
    "                neighbours = prev_state.neighbours(cell)\n",
    "                for neighbour in neighbours:\n",
    "                    alive_neighbours = prev_state.count_alive_neighbours(neighbour)\n",
    "                    if alive_neighbours == 3:\n",
    "                        curr_state.revitalize(neighbour)\n",
    "                    \n",
    "            self.state = curr_state\n",
    "            \n",
    "            if i > 1 and prev_state == curr_state: # at least 2 iterations\n",
    "                break\n",
    "    \n",
    "    # https://pillow.readthedocs.io/en/latest/handbook/image-file-formats.html#saving-sequences\n",
    "    def export_gif(self, filename, size=(512,512), frametime=200):\n",
    "        \"\"\" Export the game history as an animated gif of the given resolution. \"\"\"\n",
    "        frames = []\n",
    "        for state in self.history:\n",
    "            frames.append(state.get_frame(size))            \n",
    "        frames[0].save(filename, save_all=True, append_images=frames[1:], duration=frametime, loop=0)\n",
    "\n",
    "    def load_pattern(self, pattern, pattern_pos):\n",
    "        \"\"\" Load a specific pattern in the game. \"\"\"\n",
    "        for cell in pattern:\n",
    "            cell = (cell[0] + pattern_pos[0], cell[1] + pattern_pos[1])\n",
    "            self.state.revitalize(cell)\n",
    "\n",
    "    def compute_period(self):\n",
    "        \"\"\" Returns the period of a pattern or 0 if the pattern does not repeat. \"\"\"\n",
    "        for i, state in enumerate(reversed(self.history[:-1])):\n",
    "            if state == self.history[-1]:\n",
    "                return i + 1\n",
    "        return 0\n",
    "\n",
    "    def compute_replication(self):\n",
    "        \"\"\" Returns the number of cells that change state at each tick. \"\"\"\n",
    "        if len(self.history) < 2:\n",
    "            return None\n",
    "\n",
    "        replication = []\n",
    "\n",
    "        for i in range(1, len(self.history)):\n",
    "            curr_alive = self.history[i].alive_cells()\n",
    "            prev_alive = self.history[i-1].alive_cells()\n",
    "\n",
    "            death_counter = 0\n",
    "            birth_counter = 0\n",
    "        \n",
    "            for cell in curr_alive:\n",
    "                if cell not in prev_alive:\n",
    "                    birth_counter += 1\n",
    "\n",
    "            for cell in prev_alive:\n",
    "                if cell not in curr_alive:\n",
    "                    death_counter += 1\n",
    "            \n",
    "            replication.append((birth_counter, death_counter))\n",
    "            \n",
    "        return replication\n",
    "    \n",
    "    def compute_occupancy(self):\n",
    "        \"\"\" Returns the number of alive cells at each tick. \"\"\"\n",
    "        if len(self.history) < 1:\n",
    "            return None\n",
    "\n",
    "        occupancy = []\n",
    "        \n",
    "        for i in range(len(self.history)):\n",
    "            occupancy.append(len(self.history[i]))\n",
    "            \n",
    "        return occupancy"
   ]
  },
  {
   "cell_type": "markdown",
   "metadata": {},
   "source": [
    "Test the game:"
   ]
  },
  {
   "cell_type": "code",
   "execution_count": 6,
   "metadata": {},
   "outputs": [
    {
     "data": {
      "text/html": [
       "<img src=\"outputs/test.gif\">"
      ],
      "text/plain": [
       "<IPython.core.display.HTML object>"
      ]
     },
     "metadata": {},
     "output_type": "display_data"
    }
   ],
   "source": [
    "bliker = library.get_pattern('blinker')\n",
    "glider = library.get_pattern('glider')\n",
    "\n",
    "game = Game(grid_size=(32,32))\n",
    "game.load_pattern(bliker, (16,16))\n",
    "game.load_pattern(glider, (0,0))\n",
    "\n",
    "game.run(200)\n",
    "\n",
    "path = 'outputs/test.gif'\n",
    "game.export_gif(path, frametime=200)\n",
    "display(HTML(f'<img src=\"{path}\">'))"
   ]
  },
  {
   "cell_type": "code",
   "execution_count": 7,
   "metadata": {},
   "outputs": [],
   "source": [
    "def analyze_pattern(pattern_library, pattern_name, grid_size=(32,32), pattern_pos=(10,10), iterations=10):\n",
    "    \n",
    "    print('Pattern:', pattern_name)\n",
    "    \n",
    "    pattern = pattern_library.get_pattern(pattern_name)\n",
    "\n",
    "    game = Game(grid_size=grid_size)\n",
    "    game.load_pattern(pattern, pattern_pos=pattern_pos)\n",
    "    game.run(iterations)\n",
    "\n",
    "    filename = f'./outputs/{pattern_name}.gif'\n",
    "    game.export_gif(filename, size=(256,256), frametime=500)\n",
    "    display(HTML(f'<img src=\"{filename}\">'))\n",
    "    \n",
    "    print('Period:', game.compute_period())\n",
    "      \n",
    "    fig, axs = plt.subplots(2, 1)\n",
    "    \n",
    "    occupancy = game.compute_occupancy()  \n",
    "    axs[0].plot(occupancy)\n",
    "    axs[0].set_title('Occupancy')\n",
    "    axs[0].set_xlabel('Iteration')\n",
    "    axs[0].set_ylabel('Alive cells')\n",
    "    \n",
    "    replications = game.compute_replication()\n",
    "    axs[1].plot(replications)\n",
    "    axs[1].set_title('Replications')\n",
    "    axs[1].set_xlabel('Iteration')\n",
    "    axs[1].set_ylabel('Cells')\n",
    "    axs[1].legend(['births', 'deaths'])"
   ]
  },
  {
   "cell_type": "code",
   "execution_count": 8,
   "metadata": {},
   "outputs": [
    {
     "name": "stdout",
     "output_type": "stream",
     "text": [
      "Pattern: pulsar\n"
     ]
    },
    {
     "data": {
      "text/html": [
       "<img src=\"./outputs/pulsar.gif\">"
      ],
      "text/plain": [
       "<IPython.core.display.HTML object>"
      ]
     },
     "metadata": {},
     "output_type": "display_data"
    },
    {
     "name": "stdout",
     "output_type": "stream",
     "text": [
      "Period: 3\n"
     ]
    },
    {
     "data": {
      "image/png": "[encoded data removed]",
      "text/plain": [
       "<Figure size 432x288 with 2 Axes>"
      ]
     },
     "metadata": {
      "needs_background": "light"
     },
     "output_type": "display_data"
    }
   ],
   "source": [
    "analyze_pattern(library, 'pulsar')"
   ]
  },
  {
   "cell_type": "code",
   "execution_count": 9,
   "metadata": {},
   "outputs": [
    {
     "name": "stdout",
     "output_type": "stream",
     "text": [
      "Pattern: diehard\n"
     ]
    },
    {
     "data": {
      "text/html": [
       "<img src=\"./outputs/diehard.gif\">"
      ],
      "text/plain": [
       "<IPython.core.display.HTML object>"
      ]
     },
     "metadata": {},
     "output_type": "display_data"
    },
    {
     "name": "stdout",
     "output_type": "stream",
     "text": [
      "Period: 0\n"
     ]
    },
    {
     "data": {
      "image/png": "[encoded data removed]",
      "text/plain": [
       "<Figure size 432x288 with 2 Axes>"
      ]
     },
     "metadata": {
      "needs_background": "light"
     },
     "output_type": "display_data"
    }
   ],
   "source": [
    "analyze_pattern(library, 'diehard')"
   ]
  },
  {
   "cell_type": "code",
   "execution_count": null,
   "metadata": {},
   "outputs": [],
   "source": []
  }
 ],
 "metadata": {
  "interpreter": {
   "hash": "8ed243e5887775605319bbb862e1ad596dcc20841ad5293fa7750ee0b778099d"
  },
  "kernelspec": {
   "display_name": "Python 3 (ipykernel)",
   "language": "python",
   "name": "python3"
  },
  "language_info": {
   "codemirror_mode": {
    "name": "ipython",
    "version": 3
   },
   "file_extension": ".py",
   "mimetype": "text/x-python",
   "name": "python",
   "nbconvert_exporter": "python",
   "pygments_lexer": "ipython3",
   "version": "3.8.12"
  }
 },
 "nbformat": 4,
 "nbformat_minor": 4
}
