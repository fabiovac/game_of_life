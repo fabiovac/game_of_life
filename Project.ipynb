{
 "cells": [
  {
   "cell_type": "markdown",
   "metadata": {},
   "source": [
    "# Game of Life\n",
    "\n",
    "\n",
    "The [Game of Life](http://en.wikipedia.org/wiki/Conway's_Game_of_Life) (GoF) is a cellular automaton devised by the British mathematician John Horton Conway in 1970. The game is a zero-player game, meaning that its evolution is determined by its initial state, requiring no further input. One interacts with the Game of Life by creating an initial configuration and observing how it evolves, or, for advanced players, by creating patterns with particular properties.\n",
    "\n",
    "The universe of the Game of Life is an infinite two-dimensional orthogonal grid of square cells, each of which is in one of two possible states, live or dead. Every cell interacts with its eight neighbours, which are the cells that are directly horizontally, vertically, or diagonally adjacent. At each step in time, the following transitions occur:\n",
    "\n",
    "* Any live cell with fewer than two live neighbours dies, as if by underpopulation.\n",
    "* Any live cell with more than three live neighbours dies, as if by overcrowding.\n",
    "* Any live cell with two or three live neighbours lives, unchanged, to the next generation.\n",
    "* Any dead cell with exactly three live neighbours becomes a live cell.\n",
    "\n",
    "The initial pattern (generation 0) constitutes the \"seed\" of the system.\n",
    "Time is considered discrete, and each time step (sometimes called a tick), the previous rules are applied simultaneously to every cell in the grid; \"births\" and \"deaths\" are immediate.\n",
    "Each generation is a pure function of the previous generation alone.\n",
    "\n",
    "\n",
    "## Assignments\n",
    "\n",
    "* Begin by implementing the GoF's rules and create few examples with basic seeds in small dimensions. Hint: create `.gif` animations from sequences of still `.png` images\n",
    "* Implement examples of the three categories of patterns *still lifes*, *oscillators* and *spaceships* (check the [wiki link](http://en.wikipedia.org/wiki/Conway's_Game_of_Life))\n",
    "* Analyse the evolutions of these patterns in terms of frequency (the number of cycles required to return to the original configuration, if any), occupancy (how many alive cells there are at every step of the game), replication or heat (the average number of cells that change state at each generation), speed (if applicable), etc.\n",
    "* Increase the size of the GoF's world and play with more advanced and complex patterns"
   ]
  },
  {
   "cell_type": "code",
   "execution_count": 1,
   "metadata": {},
   "outputs": [],
   "source": [
    "import copy\n",
    "import numpy as np\n",
    "\n",
    "from PIL import Image\n",
    "from IPython.display import HTML"
   ]
  },
  {
   "cell_type": "code",
   "execution_count": 2,
   "metadata": {},
   "outputs": [],
   "source": [
    "class State:\n",
    "    \"\"\" \n",
    "    Represents the state of a Game of Life iteration as\n",
    "    a set of alive cells. \n",
    "    A cell is represented as a (x,y) tuple of coordinates.\n",
    "    \"\"\"\n",
    "    \n",
    "    def __init__(self, grid_size, initial_state):\n",
    "        \"\"\"\n",
    "        Initialize the state with the grid dimension and\n",
    "        the starting seed represented as a set of\n",
    "        alive cells' coordinates.\n",
    "        \"\"\"\n",
    "        self.grid_size = grid_size\n",
    "        self.state = initial_state\n",
    "                \n",
    "    def alive_cells(self):\n",
    "        \"\"\" Returns the set of alive cells. \"\"\"\n",
    "        return self.state\n",
    "            \n",
    "    def is_alive(self, cell):\n",
    "        \"\"\" Given a cell returns True if the cell is alive. \"\"\"\n",
    "        return cell in self.state\n",
    "    \n",
    "    def kill(self, cell):\n",
    "        \"\"\" Kills the given cell. \"\"\"\n",
    "        self.state.remove(cell)\n",
    "    \n",
    "    def revitalize(self, cell):\n",
    "        \"\"\" Revitalizes the given cell if dead. \"\"\"\n",
    "        self.state.add(cell)\n",
    "        \n",
    "    def neighbours(self, cell):\n",
    "        \"\"\" Returns the 8 neighbouring cells. \"\"\"\n",
    "        offsets = [(x,y) for x in range(-1,2) for y in range(-1,2) if not (x == 0 and y == 0)]\n",
    "        neighbours = set()\n",
    "        for offset in offsets:\n",
    "            x, y = cell[0] - offset[0], cell[1] - offset[1]\n",
    "            if x < self.grid_size[0] and y < self.grid_size[1] and x >= 0 and y >= 0:\n",
    "                neighbours.add((x,y))\n",
    "        return neighbours\n",
    "    \n",
    "    def count_alive_neighbours(self, cell):\n",
    "        \"\"\" Returns the number of alive neighbours of the given cell. \"\"\"\n",
    "        neighbours = self.neighbours(cell)\n",
    "        count = 0\n",
    "        for neighbour in neighbours:\n",
    "            if self.is_alive(neighbour):\n",
    "                count += 1\n",
    "        return count\n",
    "    \n",
    "    def get_frame(self, size):\n",
    "        \"\"\" Returns the state represented as a grayscale frame of the given size. \"\"\"\n",
    "        frame = np.zeros(self.grid_size, dtype=np.uint8)\n",
    "        for cell in self.alive_cells():\n",
    "            # cell is (x,y) frame has shape (rows, cols)\n",
    "            frame[cell[1], cell[0]] = 255\n",
    "        frame = Image.fromarray(frame)\n",
    "        frame = frame.resize(size, resample=Image.NEAREST)\n",
    "        return frame"
   ]
  },
  {
   "cell_type": "code",
   "execution_count": 3,
   "metadata": {},
   "outputs": [],
   "source": [
    "class Game:\n",
    "    \n",
    "    def __init__(self, initial_state, grid_size=(500, 500)):\n",
    "        self.size = grid_size\n",
    "        self.state = State(grid_size, initial_state)\n",
    "        self.history = []\n",
    "        \n",
    "    def run(self, iterations):\n",
    "        \"\"\" Run the game for the given number of iterations. \"\"\"\n",
    "        \n",
    "        for _ in range(iterations):\n",
    "            \n",
    "            # keep track of the state\n",
    "            # TODO: render immediately image or save the 'raw' state?\n",
    "            self.history.append(self.state)\n",
    "            \n",
    "            prev_state = self.state\n",
    "            curr_state = copy.deepcopy(self.state)\n",
    "            \n",
    "            for cell in prev_state.alive_cells():\n",
    "                \n",
    "                # Any live cell with fewer than two live neighbours dies, as if by underpopulation.\n",
    "                # Any live cell with more than three live neighbours dies, as if by overcrowding.\n",
    "                alive_neighbours = prev_state.count_alive_neighbours(cell)\n",
    "                if alive_neighbours < 2 or alive_neighbours > 3:\n",
    "                    curr_state.kill(cell)\n",
    "                # Any live cell with two or three live neighbours lives, unchanged, to the next generation.\n",
    "                \n",
    "                # Any dead cell with exactly three live neighbours becomes a live cell.\n",
    "                neighbours = prev_state.neighbours(cell)\n",
    "                for neighbour in neighbours:\n",
    "                    alive_neighbours = prev_state.count_alive_neighbours(neighbour)\n",
    "                    if alive_neighbours == 3:\n",
    "                        curr_state.revitalize(neighbour)\n",
    "                    \n",
    "            self.state = curr_state        \n",
    "    \n",
    "    # https://pillow.readthedocs.io/en/latest/handbook/image-file-formats.html#saving-sequences\n",
    "    def export_gif(self, filename, size=(512,512)):\n",
    "        \"\"\" Export the game history as an animated gif of the given resolution. \"\"\"\n",
    "        frames = []\n",
    "        for state in self.history:\n",
    "            frames.append(state.get_frame(size))            \n",
    "        frames[0].save(filename, save_all=True, append_images=frames[1:], duration=250)"
   ]
  },
  {
   "cell_type": "code",
   "execution_count": 4,
   "metadata": {},
   "outputs": [],
   "source": [
    "blinker = {(1,0), (1, 1), (1,2)}\n",
    "\n",
    "\n",
    "game = Game(initial_state=blinker, grid_size=(3, 3))\n",
    "            \n",
    "game.run(1000)\n",
    "\n",
    "filename = 'out.gif'\n",
    "game.export_gif(filename)"
   ]
  },
  {
   "cell_type": "code",
   "execution_count": 5,
   "metadata": {},
   "outputs": [
    {
     "data": {
      "text/html": [
       "<img src=\"out.gif\">"
      ],
      "text/plain": [
       "<IPython.core.display.HTML object>"
      ]
     },
     "execution_count": 5,
     "metadata": {},
     "output_type": "execute_result"
    }
   ],
   "source": [
    "HTML(f'<img src=\"{filename}\">')"
   ]
  },
  {
   "cell_type": "code",
   "execution_count": null,
   "metadata": {},
   "outputs": [],
   "source": []
  }
 ],
 "metadata": {
  "kernelspec": {
   "display_name": "Python 3 (ipykernel)",
   "language": "python",
   "name": "python3"
  },
  "language_info": {
   "codemirror_mode": {
    "name": "ipython",
    "version": 3
   },
   "file_extension": ".py",
   "mimetype": "text/x-python",
   "name": "python",
   "nbconvert_exporter": "python",
   "pygments_lexer": "ipython3",
   "version": "3.8.12"
  }
 },
 "nbformat": 4,
 "nbformat_minor": 4
}
